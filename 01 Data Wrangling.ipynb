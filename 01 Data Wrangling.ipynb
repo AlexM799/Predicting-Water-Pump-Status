{
 "cells": [
  {
   "cell_type": "markdown",
   "metadata": {},
   "source": [
    "This notebook contains the code to import and clean the dataset for the Tanzanian water pump survey.\n"
   ]
  },
  {
   "cell_type": "code",
   "execution_count": 1,
   "metadata": {},
   "outputs": [],
   "source": [
    "import csv \n",
    "import logging\n",
    "import pandas_profiling\n",
    "import numpy as np\n",
    "import pandas as pd\n",
    "import matplotlib.pyplot as plt\n",
    "import seaborn as sns"
   ]
  },
  {
   "cell_type": "code",
   "execution_count": 2,
   "metadata": {},
   "outputs": [],
   "source": [
    "#initialize run parameters\n",
    "\n",
    "pd.set_option('display.max_columns', 50)\n",
    "pd.set_option('display.max_rows', 50)\n",
    "              \n",
    "train_features_url = \"http://s3.amazonaws.com/drivendata/data/7/public/4910797b-ee55-40a7-8668-10efd5c1b960.csv\"\n",
    "train_target_url = \"http://s3.amazonaws.com/drivendata/data/7/public/0bf8bc6e-30d0-4c50-956a-603fc693d966.csv\"\n",
    "test_data_url = \"https://s3.amazonaws.com/drivendata/data/7/public/702ddfc5-68cd-4d1d-a0de-f5f566f76d91.csv\""
   ]
  },
  {
   "cell_type": "code",
   "execution_count": 3,
   "metadata": {},
   "outputs": [],
   "source": [
    "# read the data\n",
    "ds_training_features = pd.read_csv(train_features_url, encoding = 'iso-8859-1')\n",
    "ds_training_target = pd.read_csv(train_target_url, encoding = 'iso-8859-1')\n"
   ]
  },
  {
   "cell_type": "code",
   "execution_count": 4,
   "metadata": {},
   "outputs": [
    {
     "data": {
      "text/plain": [
       "True"
      ]
     },
     "execution_count": 4,
     "metadata": {},
     "output_type": "execute_result"
    }
   ],
   "source": [
    "# confirm there is a label for each of the records in the training_features dataset\n",
    "len(ds_training_features) == len(ds_training_features[ds_training_features.id == ds_training_target.id])"
   ]
  },
  {
   "cell_type": "code",
   "execution_count": 5,
   "metadata": {},
   "outputs": [
    {
     "data": {
      "text/plain": [
       "True"
      ]
     },
     "execution_count": 5,
     "metadata": {},
     "output_type": "execute_result"
    }
   ],
   "source": [
    "# merge the training features with the target label for EDA and confirm we still have the same #observations\n",
    "ds_original = pd.merge(ds_training_features, ds_training_target, how='inner', on='id')\n",
    "len(ds_original) == len(ds_training_target) == len(ds_training_features)"
   ]
  },
  {
   "cell_type": "code",
   "execution_count": 6,
   "metadata": {},
   "outputs": [
    {
     "data": {
      "text/plain": [
       "(59400, 41)"
      ]
     },
     "execution_count": 6,
     "metadata": {},
     "output_type": "execute_result"
    }
   ],
   "source": [
    "# review number of observations and features\n",
    "ds_original.shape"
   ]
  },
  {
   "cell_type": "code",
   "execution_count": 7,
   "metadata": {},
   "outputs": [
    {
     "data": {
      "text/html": [
       "<div>\n",
       "<style scoped>\n",
       "    .dataframe tbody tr th:only-of-type {\n",
       "        vertical-align: middle;\n",
       "    }\n",
       "\n",
       "    .dataframe tbody tr th {\n",
       "        vertical-align: top;\n",
       "    }\n",
       "\n",
       "    .dataframe thead th {\n",
       "        text-align: right;\n",
       "    }\n",
       "</style>\n",
       "<table border=\"1\" class=\"dataframe\">\n",
       "  <thead>\n",
       "    <tr style=\"text-align: right;\">\n",
       "      <th></th>\n",
       "      <th>amount_tsh</th>\n",
       "      <th>basin</th>\n",
       "      <th>construction_year</th>\n",
       "      <th>date_recorded</th>\n",
       "      <th>district_code</th>\n",
       "      <th>extraction_type</th>\n",
       "      <th>extraction_type_class</th>\n",
       "      <th>extraction_type_group</th>\n",
       "      <th>funder</th>\n",
       "      <th>gps_height</th>\n",
       "      <th>id</th>\n",
       "      <th>installer</th>\n",
       "      <th>latitude</th>\n",
       "      <th>lga</th>\n",
       "      <th>longitude</th>\n",
       "      <th>management</th>\n",
       "      <th>management_group</th>\n",
       "      <th>num_private</th>\n",
       "      <th>payment</th>\n",
       "      <th>payment_type</th>\n",
       "      <th>permit</th>\n",
       "      <th>population</th>\n",
       "      <th>public_meeting</th>\n",
       "      <th>quality_group</th>\n",
       "      <th>quantity</th>\n",
       "      <th>quantity_group</th>\n",
       "      <th>recorded_by</th>\n",
       "      <th>region</th>\n",
       "      <th>region_code</th>\n",
       "      <th>scheme_management</th>\n",
       "      <th>scheme_name</th>\n",
       "      <th>source</th>\n",
       "      <th>source_class</th>\n",
       "      <th>source_type</th>\n",
       "      <th>status_group</th>\n",
       "      <th>subvillage</th>\n",
       "      <th>ward</th>\n",
       "      <th>water_quality</th>\n",
       "      <th>waterpoint_type</th>\n",
       "      <th>waterpoint_type_group</th>\n",
       "      <th>wpt_name</th>\n",
       "    </tr>\n",
       "  </thead>\n",
       "  <tbody>\n",
       "    <tr>\n",
       "      <td>0</td>\n",
       "      <td>6000.0</td>\n",
       "      <td>Lake Nyasa</td>\n",
       "      <td>1999</td>\n",
       "      <td>2011-03-14</td>\n",
       "      <td>5</td>\n",
       "      <td>gravity</td>\n",
       "      <td>gravity</td>\n",
       "      <td>gravity</td>\n",
       "      <td>Roman</td>\n",
       "      <td>1390</td>\n",
       "      <td>69572</td>\n",
       "      <td>Roman</td>\n",
       "      <td>-9.856322</td>\n",
       "      <td>Ludewa</td>\n",
       "      <td>34.938093</td>\n",
       "      <td>vwc</td>\n",
       "      <td>user-group</td>\n",
       "      <td>0</td>\n",
       "      <td>pay annually</td>\n",
       "      <td>annually</td>\n",
       "      <td>False</td>\n",
       "      <td>109</td>\n",
       "      <td>True</td>\n",
       "      <td>good</td>\n",
       "      <td>enough</td>\n",
       "      <td>enough</td>\n",
       "      <td>GeoData Consultants Ltd</td>\n",
       "      <td>Iringa</td>\n",
       "      <td>11</td>\n",
       "      <td>VWC</td>\n",
       "      <td>Roman</td>\n",
       "      <td>spring</td>\n",
       "      <td>groundwater</td>\n",
       "      <td>spring</td>\n",
       "      <td>functional</td>\n",
       "      <td>Mnyusi B</td>\n",
       "      <td>Mundindi</td>\n",
       "      <td>soft</td>\n",
       "      <td>communal standpipe</td>\n",
       "      <td>communal standpipe</td>\n",
       "      <td>none</td>\n",
       "    </tr>\n",
       "    <tr>\n",
       "      <td>1</td>\n",
       "      <td>0.0</td>\n",
       "      <td>Lake Victoria</td>\n",
       "      <td>2010</td>\n",
       "      <td>2013-03-06</td>\n",
       "      <td>2</td>\n",
       "      <td>gravity</td>\n",
       "      <td>gravity</td>\n",
       "      <td>gravity</td>\n",
       "      <td>Grumeti</td>\n",
       "      <td>1399</td>\n",
       "      <td>8776</td>\n",
       "      <td>GRUMETI</td>\n",
       "      <td>-2.147466</td>\n",
       "      <td>Serengeti</td>\n",
       "      <td>34.698766</td>\n",
       "      <td>wug</td>\n",
       "      <td>user-group</td>\n",
       "      <td>0</td>\n",
       "      <td>never pay</td>\n",
       "      <td>never pay</td>\n",
       "      <td>True</td>\n",
       "      <td>280</td>\n",
       "      <td>NaN</td>\n",
       "      <td>good</td>\n",
       "      <td>insufficient</td>\n",
       "      <td>insufficient</td>\n",
       "      <td>GeoData Consultants Ltd</td>\n",
       "      <td>Mara</td>\n",
       "      <td>20</td>\n",
       "      <td>Other</td>\n",
       "      <td>NaN</td>\n",
       "      <td>rainwater harvesting</td>\n",
       "      <td>surface</td>\n",
       "      <td>rainwater harvesting</td>\n",
       "      <td>functional</td>\n",
       "      <td>Nyamara</td>\n",
       "      <td>Natta</td>\n",
       "      <td>soft</td>\n",
       "      <td>communal standpipe</td>\n",
       "      <td>communal standpipe</td>\n",
       "      <td>Zahanati</td>\n",
       "    </tr>\n",
       "    <tr>\n",
       "      <td>2</td>\n",
       "      <td>25.0</td>\n",
       "      <td>Pangani</td>\n",
       "      <td>2009</td>\n",
       "      <td>2013-02-25</td>\n",
       "      <td>4</td>\n",
       "      <td>gravity</td>\n",
       "      <td>gravity</td>\n",
       "      <td>gravity</td>\n",
       "      <td>Lottery Club</td>\n",
       "      <td>686</td>\n",
       "      <td>34310</td>\n",
       "      <td>World vision</td>\n",
       "      <td>-3.821329</td>\n",
       "      <td>Simanjiro</td>\n",
       "      <td>37.460664</td>\n",
       "      <td>vwc</td>\n",
       "      <td>user-group</td>\n",
       "      <td>0</td>\n",
       "      <td>pay per bucket</td>\n",
       "      <td>per bucket</td>\n",
       "      <td>True</td>\n",
       "      <td>250</td>\n",
       "      <td>True</td>\n",
       "      <td>good</td>\n",
       "      <td>enough</td>\n",
       "      <td>enough</td>\n",
       "      <td>GeoData Consultants Ltd</td>\n",
       "      <td>Manyara</td>\n",
       "      <td>21</td>\n",
       "      <td>VWC</td>\n",
       "      <td>Nyumba ya mungu pipe scheme</td>\n",
       "      <td>dam</td>\n",
       "      <td>surface</td>\n",
       "      <td>dam</td>\n",
       "      <td>functional</td>\n",
       "      <td>Majengo</td>\n",
       "      <td>Ngorika</td>\n",
       "      <td>soft</td>\n",
       "      <td>communal standpipe multiple</td>\n",
       "      <td>communal standpipe</td>\n",
       "      <td>Kwa Mahundi</td>\n",
       "    </tr>\n",
       "    <tr>\n",
       "      <td>3</td>\n",
       "      <td>0.0</td>\n",
       "      <td>Ruvuma / Southern Coast</td>\n",
       "      <td>1986</td>\n",
       "      <td>2013-01-28</td>\n",
       "      <td>63</td>\n",
       "      <td>submersible</td>\n",
       "      <td>submersible</td>\n",
       "      <td>submersible</td>\n",
       "      <td>Unicef</td>\n",
       "      <td>263</td>\n",
       "      <td>67743</td>\n",
       "      <td>UNICEF</td>\n",
       "      <td>-11.155298</td>\n",
       "      <td>Nanyumbu</td>\n",
       "      <td>38.486161</td>\n",
       "      <td>vwc</td>\n",
       "      <td>user-group</td>\n",
       "      <td>0</td>\n",
       "      <td>never pay</td>\n",
       "      <td>never pay</td>\n",
       "      <td>True</td>\n",
       "      <td>58</td>\n",
       "      <td>True</td>\n",
       "      <td>good</td>\n",
       "      <td>dry</td>\n",
       "      <td>dry</td>\n",
       "      <td>GeoData Consultants Ltd</td>\n",
       "      <td>Mtwara</td>\n",
       "      <td>90</td>\n",
       "      <td>VWC</td>\n",
       "      <td>NaN</td>\n",
       "      <td>machine dbh</td>\n",
       "      <td>groundwater</td>\n",
       "      <td>borehole</td>\n",
       "      <td>non functional</td>\n",
       "      <td>Mahakamani</td>\n",
       "      <td>Nanyumbu</td>\n",
       "      <td>soft</td>\n",
       "      <td>communal standpipe multiple</td>\n",
       "      <td>communal standpipe</td>\n",
       "      <td>Zahanati Ya Nanyumbu</td>\n",
       "    </tr>\n",
       "    <tr>\n",
       "      <td>4</td>\n",
       "      <td>0.0</td>\n",
       "      <td>Lake Victoria</td>\n",
       "      <td>0</td>\n",
       "      <td>2011-07-13</td>\n",
       "      <td>1</td>\n",
       "      <td>gravity</td>\n",
       "      <td>gravity</td>\n",
       "      <td>gravity</td>\n",
       "      <td>Action In A</td>\n",
       "      <td>0</td>\n",
       "      <td>19728</td>\n",
       "      <td>Artisan</td>\n",
       "      <td>-1.825359</td>\n",
       "      <td>Karagwe</td>\n",
       "      <td>31.130847</td>\n",
       "      <td>other</td>\n",
       "      <td>other</td>\n",
       "      <td>0</td>\n",
       "      <td>never pay</td>\n",
       "      <td>never pay</td>\n",
       "      <td>True</td>\n",
       "      <td>0</td>\n",
       "      <td>True</td>\n",
       "      <td>good</td>\n",
       "      <td>seasonal</td>\n",
       "      <td>seasonal</td>\n",
       "      <td>GeoData Consultants Ltd</td>\n",
       "      <td>Kagera</td>\n",
       "      <td>18</td>\n",
       "      <td>NaN</td>\n",
       "      <td>NaN</td>\n",
       "      <td>rainwater harvesting</td>\n",
       "      <td>surface</td>\n",
       "      <td>rainwater harvesting</td>\n",
       "      <td>functional</td>\n",
       "      <td>Kyanyamisa</td>\n",
       "      <td>Nyakasimbi</td>\n",
       "      <td>soft</td>\n",
       "      <td>communal standpipe</td>\n",
       "      <td>communal standpipe</td>\n",
       "      <td>Shuleni</td>\n",
       "    </tr>\n",
       "  </tbody>\n",
       "</table>\n",
       "</div>"
      ],
      "text/plain": [
       "   amount_tsh                    basin  construction_year date_recorded  \\\n",
       "0      6000.0               Lake Nyasa               1999    2011-03-14   \n",
       "1         0.0            Lake Victoria               2010    2013-03-06   \n",
       "2        25.0                  Pangani               2009    2013-02-25   \n",
       "3         0.0  Ruvuma / Southern Coast               1986    2013-01-28   \n",
       "4         0.0            Lake Victoria                  0    2011-07-13   \n",
       "\n",
       "   district_code extraction_type extraction_type_class extraction_type_group  \\\n",
       "0              5         gravity               gravity               gravity   \n",
       "1              2         gravity               gravity               gravity   \n",
       "2              4         gravity               gravity               gravity   \n",
       "3             63     submersible           submersible           submersible   \n",
       "4              1         gravity               gravity               gravity   \n",
       "\n",
       "         funder  gps_height     id     installer   latitude        lga  \\\n",
       "0         Roman        1390  69572         Roman  -9.856322     Ludewa   \n",
       "1       Grumeti        1399   8776       GRUMETI  -2.147466  Serengeti   \n",
       "2  Lottery Club         686  34310  World vision  -3.821329  Simanjiro   \n",
       "3        Unicef         263  67743        UNICEF -11.155298   Nanyumbu   \n",
       "4   Action In A           0  19728       Artisan  -1.825359    Karagwe   \n",
       "\n",
       "   longitude management management_group  num_private         payment  \\\n",
       "0  34.938093        vwc       user-group            0    pay annually   \n",
       "1  34.698766        wug       user-group            0       never pay   \n",
       "2  37.460664        vwc       user-group            0  pay per bucket   \n",
       "3  38.486161        vwc       user-group            0       never pay   \n",
       "4  31.130847      other            other            0       never pay   \n",
       "\n",
       "  payment_type permit  population public_meeting quality_group      quantity  \\\n",
       "0     annually  False         109           True          good        enough   \n",
       "1    never pay   True         280            NaN          good  insufficient   \n",
       "2   per bucket   True         250           True          good        enough   \n",
       "3    never pay   True          58           True          good           dry   \n",
       "4    never pay   True           0           True          good      seasonal   \n",
       "\n",
       "  quantity_group              recorded_by   region  region_code  \\\n",
       "0         enough  GeoData Consultants Ltd   Iringa           11   \n",
       "1   insufficient  GeoData Consultants Ltd     Mara           20   \n",
       "2         enough  GeoData Consultants Ltd  Manyara           21   \n",
       "3            dry  GeoData Consultants Ltd   Mtwara           90   \n",
       "4       seasonal  GeoData Consultants Ltd   Kagera           18   \n",
       "\n",
       "  scheme_management                  scheme_name                source  \\\n",
       "0               VWC                        Roman                spring   \n",
       "1             Other                          NaN  rainwater harvesting   \n",
       "2               VWC  Nyumba ya mungu pipe scheme                   dam   \n",
       "3               VWC                          NaN           machine dbh   \n",
       "4               NaN                          NaN  rainwater harvesting   \n",
       "\n",
       "  source_class           source_type    status_group  subvillage        ward  \\\n",
       "0  groundwater                spring      functional    Mnyusi B    Mundindi   \n",
       "1      surface  rainwater harvesting      functional     Nyamara       Natta   \n",
       "2      surface                   dam      functional     Majengo     Ngorika   \n",
       "3  groundwater              borehole  non functional  Mahakamani    Nanyumbu   \n",
       "4      surface  rainwater harvesting      functional  Kyanyamisa  Nyakasimbi   \n",
       "\n",
       "  water_quality              waterpoint_type waterpoint_type_group  \\\n",
       "0          soft           communal standpipe    communal standpipe   \n",
       "1          soft           communal standpipe    communal standpipe   \n",
       "2          soft  communal standpipe multiple    communal standpipe   \n",
       "3          soft  communal standpipe multiple    communal standpipe   \n",
       "4          soft           communal standpipe    communal standpipe   \n",
       "\n",
       "               wpt_name  \n",
       "0                  none  \n",
       "1              Zahanati  \n",
       "2           Kwa Mahundi  \n",
       "3  Zahanati Ya Nanyumbu  \n",
       "4               Shuleni  "
      ]
     },
     "execution_count": 7,
     "metadata": {},
     "output_type": "execute_result"
    }
   ],
   "source": [
    "# Make a copy of the original dataset, sort the column names for consistency\n",
    "# and visually examine a sample of the data\n",
    "ds_clean = ds_original.reindex(columns=sorted(ds_original.columns))\n",
    "ds_clean.head()"
   ]
  },
  {
   "cell_type": "markdown",
   "metadata": {},
   "source": [
    "# Drop features with one / mostly one value"
   ]
  },
  {
   "cell_type": "code",
   "execution_count": 8,
   "metadata": {},
   "outputs": [
    {
     "data": {
      "text/plain": [
       "True     0.858771\n",
       "False    0.085101\n",
       "NaN      0.056128\n",
       "Name: public_meeting, dtype: float64"
      ]
     },
     "execution_count": 8,
     "metadata": {},
     "output_type": "execute_result"
    }
   ],
   "source": [
    "# public meeting is True 85% of the time\n",
    "ds_clean['public_meeting'].value_counts(normalize=True, dropna=False)"
   ]
  },
  {
   "cell_type": "code",
   "execution_count": 9,
   "metadata": {},
   "outputs": [],
   "source": [
    "ds_clean.drop(columns=['public_meeting'], axis=1, inplace=True)"
   ]
  },
  {
   "cell_type": "code",
   "execution_count": 10,
   "metadata": {},
   "outputs": [
    {
     "data": {
      "text/plain": [
       "good        0.855522\n",
       "salty       0.087458\n",
       "unknown     0.031582\n",
       "milky       0.013535\n",
       "colored     0.008249\n",
       "fluoride    0.003653\n",
       "Name: quality_group, dtype: float64"
      ]
     },
     "execution_count": 10,
     "metadata": {},
     "output_type": "execute_result"
    }
   ],
   "source": [
    "# quality_group is 'good' 85% of the time\n",
    "ds_clean['quality_group'].value_counts(normalize=True, dropna=False)"
   ]
  },
  {
   "cell_type": "code",
   "execution_count": 11,
   "metadata": {},
   "outputs": [],
   "source": [
    "ds_clean.drop(columns=['quality_group'], axis=1, inplace=True)"
   ]
  },
  {
   "cell_type": "markdown",
   "metadata": {},
   "source": [
    "# Drop duplicated features"
   ]
  },
  {
   "cell_type": "code",
   "execution_count": 12,
   "metadata": {},
   "outputs": [
    {
     "data": {
      "text/plain": [
       "'quantity and quantity_group percent same: 100.00%'"
      ]
     },
     "execution_count": 12,
     "metadata": {},
     "output_type": "execute_result"
    }
   ],
   "source": [
    "# quantity & quantity group have identical information, dropping quantity_group\n",
    "'quantity and quantity_group percent same: {:.2%}'.format((len(ds_clean[ds_clean['quantity'] == ds_clean['quantity_group']])) /len(ds_clean))"
   ]
  },
  {
   "cell_type": "code",
   "execution_count": 13,
   "metadata": {},
   "outputs": [],
   "source": [
    "ds_clean.drop(columns=['quantity_group'], axis=1, inplace=True)"
   ]
  },
  {
   "cell_type": "code",
   "execution_count": 14,
   "metadata": {},
   "outputs": [
    {
     "data": {
      "text/plain": [
       "payment_type  payment              \n",
       "annually      pay annually              3642\n",
       "monthly       pay monthly               8300\n",
       "never pay     never pay                25348\n",
       "on failure    pay when scheme fails     3914\n",
       "other         other                     1054\n",
       "per bucket    pay per bucket            8985\n",
       "unknown       unknown                   8157\n",
       "Name: id, dtype: int64"
      ]
     },
     "execution_count": 14,
     "metadata": {},
     "output_type": "execute_result"
    }
   ],
   "source": [
    "# payment_type & payment have same with some syntax differences, dropping payment\n",
    "ds_clean.groupby(['payment_type', 'payment'])['id'].count()"
   ]
  },
  {
   "cell_type": "code",
   "execution_count": 15,
   "metadata": {},
   "outputs": [],
   "source": [
    "ds_clean.drop(columns=['payment'], axis=1, inplace=True)"
   ]
  },
  {
   "cell_type": "markdown",
   "metadata": {},
   "source": [
    "# Drop features with high rate of missing values"
   ]
  },
  {
   "cell_type": "code",
   "execution_count": 16,
   "metadata": {},
   "outputs": [
    {
     "data": {
      "text/html": [
       "<div>\n",
       "<style scoped>\n",
       "    .dataframe tbody tr th:only-of-type {\n",
       "        vertical-align: middle;\n",
       "    }\n",
       "\n",
       "    .dataframe tbody tr th {\n",
       "        vertical-align: top;\n",
       "    }\n",
       "\n",
       "    .dataframe thead th {\n",
       "        text-align: right;\n",
       "    }\n",
       "</style>\n",
       "<table border=\"1\" class=\"dataframe\">\n",
       "  <thead>\n",
       "    <tr style=\"text-align: right;\">\n",
       "      <th></th>\n",
       "      <th>column_name</th>\n",
       "      <th>pct_missing</th>\n",
       "      <th>sum_missing</th>\n",
       "    </tr>\n",
       "  </thead>\n",
       "  <tbody>\n",
       "    <tr>\n",
       "      <td>26</td>\n",
       "      <td>scheme_name</td>\n",
       "      <td>0.474175</td>\n",
       "      <td>28166</td>\n",
       "    </tr>\n",
       "    <tr>\n",
       "      <td>25</td>\n",
       "      <td>scheme_management</td>\n",
       "      <td>0.065269</td>\n",
       "      <td>3877</td>\n",
       "    </tr>\n",
       "    <tr>\n",
       "      <td>11</td>\n",
       "      <td>installer</td>\n",
       "      <td>0.061532</td>\n",
       "      <td>3655</td>\n",
       "    </tr>\n",
       "    <tr>\n",
       "      <td>8</td>\n",
       "      <td>funder</td>\n",
       "      <td>0.061195</td>\n",
       "      <td>3635</td>\n",
       "    </tr>\n",
       "    <tr>\n",
       "      <td>19</td>\n",
       "      <td>permit</td>\n",
       "      <td>0.051448</td>\n",
       "      <td>3056</td>\n",
       "    </tr>\n",
       "    <tr>\n",
       "      <td>31</td>\n",
       "      <td>subvillage</td>\n",
       "      <td>0.006246</td>\n",
       "      <td>371</td>\n",
       "    </tr>\n",
       "  </tbody>\n",
       "</table>\n",
       "</div>"
      ],
      "text/plain": [
       "          column_name  pct_missing  sum_missing\n",
       "26        scheme_name     0.474175        28166\n",
       "25  scheme_management     0.065269         3877\n",
       "11          installer     0.061532         3655\n",
       "8              funder     0.061195         3635\n",
       "19             permit     0.051448         3056\n",
       "31         subvillage     0.006246          371"
      ]
     },
     "execution_count": 16,
     "metadata": {},
     "output_type": "execute_result"
    }
   ],
   "source": [
    "# generate NaN report - many thanks to my Springboard colleague Charles Tucker for this method!\n",
    "\n",
    "cols = list(ds_clean.columns.values)\n",
    "nan_dict = {'column_name': list(cols)}\n",
    "\n",
    "pct_list = []\n",
    "sum_list = []\n",
    "\n",
    "# generate a list of the pct null values\n",
    "for col in cols:\n",
    "    pct_list.append(ds_clean[col].isnull().mean())\n",
    "    sum_list.append(ds_clean[col].isnull().sum())\n",
    "    \n",
    "# assign lists to the dictionary\n",
    "nan_dict['pct_missing'] = pct_list\n",
    "nan_dict['sum_missing'] = sum_list\n",
    "\n",
    "# convert to dataframe\n",
    "nan_report = pd.DataFrame(nan_dict)\n",
    "nan_report.sort_values(by=['pct_missing'], ascending=False, inplace=True)\n",
    "nan_report[nan_report['sum_missing']>0]"
   ]
  },
  {
   "cell_type": "code",
   "execution_count": 17,
   "metadata": {},
   "outputs": [],
   "source": [
    "# scheme_name is missing in almost half of the observations, so drop this feature\n",
    "ds_clean.drop(columns=['scheme_name'], axis=1, inplace=True)"
   ]
  },
  {
   "cell_type": "code",
   "execution_count": 18,
   "metadata": {},
   "outputs": [
    {
     "data": {
      "text/plain": [
       "1    0.688923\n",
       "0    0.311077\n",
       "Name: permit, dtype: float64"
      ]
     },
     "execution_count": 18,
     "metadata": {},
     "output_type": "execute_result"
    }
   ],
   "source": [
    "# Permit is boolean - fill in the missing values with true/false values in same proportion as 95% of the data\n",
    "\n",
    "ds_clean['permit'] = ds_clean['permit'].fillna(pd.Series(np.random.choice([True, False], \n",
    "                                                      p=[0.67, 0.33], size=len(ds_clean)))).astype(int)\n",
    "\n",
    "ds_clean['permit'].value_counts(normalize=True, dropna=False)"
   ]
  },
  {
   "cell_type": "markdown",
   "metadata": {},
   "source": [
    "We will cover what to do with the rest after reviewing the Pandas Profiling report."
   ]
  },
  {
   "cell_type": "markdown",
   "metadata": {},
   "source": [
    "# Drop features with high rate of zero"
   ]
  },
  {
   "cell_type": "code",
   "execution_count": 19,
   "metadata": {},
   "outputs": [
    {
     "data": {
      "text/html": [
       "<div>\n",
       "<style scoped>\n",
       "    .dataframe tbody tr th:only-of-type {\n",
       "        vertical-align: middle;\n",
       "    }\n",
       "\n",
       "    .dataframe tbody tr th {\n",
       "        vertical-align: top;\n",
       "    }\n",
       "\n",
       "    .dataframe thead th {\n",
       "        text-align: right;\n",
       "    }\n",
       "</style>\n",
       "<table border=\"1\" class=\"dataframe\">\n",
       "  <thead>\n",
       "    <tr style=\"text-align: right;\">\n",
       "      <th></th>\n",
       "      <th>column_name</th>\n",
       "      <th>pct_zero</th>\n",
       "    </tr>\n",
       "  </thead>\n",
       "  <tbody>\n",
       "    <tr>\n",
       "      <td>3</td>\n",
       "      <td>num_private</td>\n",
       "      <td>0.987256</td>\n",
       "    </tr>\n",
       "    <tr>\n",
       "      <td>0</td>\n",
       "      <td>amount_tsh</td>\n",
       "      <td>0.700993</td>\n",
       "    </tr>\n",
       "    <tr>\n",
       "      <td>4</td>\n",
       "      <td>population</td>\n",
       "      <td>0.359949</td>\n",
       "    </tr>\n",
       "    <tr>\n",
       "      <td>1</td>\n",
       "      <td>construction_year</td>\n",
       "      <td>0.348636</td>\n",
       "    </tr>\n",
       "    <tr>\n",
       "      <td>2</td>\n",
       "      <td>gps_height</td>\n",
       "      <td>0.344074</td>\n",
       "    </tr>\n",
       "    <tr>\n",
       "      <td>5</td>\n",
       "      <td>quantity</td>\n",
       "      <td>0.000000</td>\n",
       "    </tr>\n",
       "  </tbody>\n",
       "</table>\n",
       "</div>"
      ],
      "text/plain": [
       "         column_name  pct_zero\n",
       "3        num_private  0.987256\n",
       "0         amount_tsh  0.700993\n",
       "4         population  0.359949\n",
       "1  construction_year  0.348636\n",
       "2         gps_height  0.344074\n",
       "5           quantity  0.000000"
      ]
     },
     "execution_count": 19,
     "metadata": {},
     "output_type": "execute_result"
    }
   ],
   "source": [
    "# generate zeros report for numerical columns to see how many values are zero\n",
    "\n",
    "cols = ['amount_tsh', 'construction_year', 'gps_height', 'num_private', 'population', 'quantity']\n",
    "zero_dict = {'column_name': list(cols)}\n",
    "\n",
    "pct_list = []\n",
    "\n",
    "# generate a list of the pct null values\n",
    "for col in cols:\n",
    "    pct_list.append(len(ds_clean[ds_clean[col]==0]) / len(ds_clean))\n",
    "    \n",
    "# assign lists to the dictionary\n",
    "zero_dict['pct_zero'] = pct_list\n",
    "\n",
    "# convert to dataframe\n",
    "zero_report = pd.DataFrame(zero_dict)\n",
    "zero_report.sort_values(by=['pct_zero'], ascending=False, inplace=True)\n",
    "zero_report"
   ]
  },
  {
   "cell_type": "code",
   "execution_count": 20,
   "metadata": {},
   "outputs": [],
   "source": [
    "# drop the features with the highest percentages of zero\n",
    "ds_clean.drop(columns=['amount_tsh', 'num_private'], axis=1, inplace=True)\n",
    "\n",
    "# of note, population and construction_year are missing in about 1/3 of the observations -\n",
    "# consider dropping either these features or missing observations in feature selection phase\n",
    "\n",
    "# leaving gps_height as-is since 0 is a valid value for pumps at sea level!"
   ]
  },
  {
   "cell_type": "markdown",
   "metadata": {},
   "source": [
    "# Drop features unique to pump & related to surveying"
   ]
  },
  {
   "cell_type": "code",
   "execution_count": 21,
   "metadata": {},
   "outputs": [],
   "source": [
    "ds_clean.drop(columns=['date_recorded', 'recorded_by', 'wpt_name'], axis=1, inplace=True)"
   ]
  },
  {
   "cell_type": "markdown",
   "metadata": {},
   "source": [
    "# Examine data types"
   ]
  },
  {
   "cell_type": "code",
   "execution_count": 22,
   "metadata": {},
   "outputs": [
    {
     "name": "stdout",
     "output_type": "stream",
     "text": [
      "<class 'pandas.core.frame.DataFrame'>\n",
      "Int64Index: 59400 entries, 0 to 59399\n",
      "Data columns (total 31 columns):\n",
      "basin                    59400 non-null object\n",
      "construction_year        59400 non-null int64\n",
      "district_code            59400 non-null int64\n",
      "extraction_type          59400 non-null object\n",
      "extraction_type_class    59400 non-null object\n",
      "extraction_type_group    59400 non-null object\n",
      "funder                   55765 non-null object\n",
      "gps_height               59400 non-null int64\n",
      "id                       59400 non-null int64\n",
      "installer                55745 non-null object\n",
      "latitude                 59400 non-null float64\n",
      "lga                      59400 non-null object\n",
      "longitude                59400 non-null float64\n",
      "management               59400 non-null object\n",
      "management_group         59400 non-null object\n",
      "payment_type             59400 non-null object\n",
      "permit                   59400 non-null int64\n",
      "population               59400 non-null int64\n",
      "quantity                 59400 non-null object\n",
      "region                   59400 non-null object\n",
      "region_code              59400 non-null int64\n",
      "scheme_management        55523 non-null object\n",
      "source                   59400 non-null object\n",
      "source_class             59400 non-null object\n",
      "source_type              59400 non-null object\n",
      "status_group             59400 non-null object\n",
      "subvillage               59029 non-null object\n",
      "ward                     59400 non-null object\n",
      "water_quality            59400 non-null object\n",
      "waterpoint_type          59400 non-null object\n",
      "waterpoint_type_group    59400 non-null object\n",
      "dtypes: float64(2), int64(7), object(22)\n",
      "memory usage: 14.5+ MB\n"
     ]
    }
   ],
   "source": [
    "# the dataset now has 31 columns with no null entries.  There are 7 numerical columns and the remainder are\n",
    "# categorial. \n",
    "\n",
    "ds_clean.info()"
   ]
  },
  {
   "cell_type": "markdown",
   "metadata": {},
   "source": [
    "# Pandas Profiling, feature selection and cardinality reduction"
   ]
  },
  {
   "cell_type": "markdown",
   "metadata": {},
   "source": [
    "Now that the features with visually-obvious characteristics have been reviewed, run Pandas profiling to get a detailed report on each feature."
   ]
  },
  {
   "cell_type": "markdown",
   "metadata": {},
   "source": [
    "Given that most of the features in this dataset are categorical, they will need to be one-hot-encoded for use by the machine learning models, which will create x(n-1) features for x features with n values. This makes reducing cardinality important.  At the same time, there are many features with varying levels of granularity for the same data.  For example, there are 6 features related to the location of the pump. We are looking at the curse of dimensionality.<br><br>\n",
    "Removing features and reducing cardinality will reduce the variability of the data, but this could lead to an increase in bias.<br><br>\n",
    "In an attempt to balance the bias/variance tradeoff, two datasets will be created. The first dataset will have a set of features reduced to high-level values with less granularity (for example ‘extraction_type_class’ with 7 unique values). The second dataset will contain features reduced to lower-level values with more granularity (for example ‘extraction_type’ with 18 unique values).\n"
   ]
  },
  {
   "cell_type": "code",
   "execution_count": 23,
   "metadata": {},
   "outputs": [],
   "source": [
    "ds_high_var = ds_clean.copy()\n",
    "ds_low_var = ds_clean.copy()"
   ]
  },
  {
   "cell_type": "code",
   "execution_count": 24,
   "metadata": {},
   "outputs": [],
   "source": [
    "# Commenting this out once it's run\n",
    "#run_Pandas_Profiling(ds_clean, break_into_sections = True, num_cols=5)"
   ]
  },
  {
   "cell_type": "markdown",
   "metadata": {},
   "source": [
    "#### Review results\n"
   ]
  },
  {
   "cell_type": "markdown",
   "metadata": {},
   "source": [
    "<b>basin</b> contains 9 unique values - use one-hot encoding to convert to numeric"
   ]
  },
  {
   "cell_type": "markdown",
   "metadata": {},
   "source": [
    "<b>district_code</b> contains 20 unique values, and is one of 6 features (not including lat,long) indicating pump location. Review with pump location features and decide which to keep."
   ]
  },
  {
   "cell_type": "markdown",
   "metadata": {},
   "source": [
    "<b>extraction_type</b> contains 18 unique values, and is one of 3 features indicating pump type. "
   ]
  },
  {
   "cell_type": "markdown",
   "metadata": {},
   "source": [
    "<b>extraction_type_class</b> contains 7 unique values, and is one of 3 features indicating pump type. "
   ]
  },
  {
   "cell_type": "markdown",
   "metadata": {},
   "source": [
    "<b>extraction_type_group</b> contains 13 unique values, and is one of 3 features indicating pump type."
   ]
  },
  {
   "cell_type": "markdown",
   "metadata": {},
   "source": [
    "This extraction feature hierarchy will need to be reduced to one feature when training the algorithms."
   ]
  },
  {
   "cell_type": "code",
   "execution_count": 25,
   "metadata": {},
   "outputs": [
    {
     "data": {
      "text/plain": [
       "extraction_type_class  extraction_type_group  extraction_type          \n",
       "gravity                gravity                gravity                      26780\n",
       "handpump               afridev                afridev                       1770\n",
       "                       india mark ii          india mark ii                 2400\n",
       "                       india mark iii         india mark iii                  98\n",
       "                       nira/tanira            nira/tanira                   8154\n",
       "                       other handpump         other - mkulima/shinyanga        2\n",
       "                                              other - play pump               85\n",
       "                                              other - swn 81                 229\n",
       "                                              walimi                          48\n",
       "                       swn 80                 swn 80                        3670\n",
       "motorpump              mono                   mono                          2865\n",
       "                       other motorpump        cemo                            90\n",
       "                                              climax                          32\n",
       "other                  other                  other                         6430\n",
       "rope pump              rope pump              other - rope pump              451\n",
       "submersible            submersible            ksb                           1415\n",
       "                                              submersible                   4764\n",
       "wind-powered           wind-powered           windmill                       117\n",
       "Name: id, dtype: int64"
      ]
     },
     "execution_count": 25,
     "metadata": {},
     "output_type": "execute_result"
    }
   ],
   "source": [
    "ds_clean.groupby(['extraction_type_class','extraction_type_group', 'extraction_type'])['id'].count()"
   ]
  },
  {
   "cell_type": "markdown",
   "metadata": {},
   "source": [
    "We can see that the largest pump type, gravity, is not broken into any sublevels.  Also, the \"handpump\" group is the only one that increases in granularity, but most of the values are repeated in the subsequent levels, with only a small number of pumps labeled at the lowest level.  For these reasons, extraction_type_group and extraction_type will be dropped from the low-var dataset, and extraction_type_group will be used in the high-var dataset."
   ]
  },
  {
   "cell_type": "code",
   "execution_count": 26,
   "metadata": {},
   "outputs": [],
   "source": [
    "#use extraction_type_class in low_var\n",
    "ds_low_var.drop(columns=['extraction_type_group', 'extraction_type'], index=1, inplace=True)\n",
    "#use extraction_type_group in high_var\n",
    "ds_high_var.drop(columns=['extraction_type_class', 'extraction_type'], index=1, inplace=True)"
   ]
  },
  {
   "cell_type": "markdown",
   "metadata": {},
   "source": [
    "With the simplified pump type, we can also see an opportunity to reduce the cardinality of the feature by combining the two smallest categories into the 'other' category."
   ]
  },
  {
   "cell_type": "code",
   "execution_count": 27,
   "metadata": {},
   "outputs": [
    {
     "data": {
      "text/plain": [
       "gravity         0.450833\n",
       "handpump        0.277042\n",
       "other           0.108251\n",
       "submersible     0.104025\n",
       "motorpump       0.050287\n",
       "rope pump       0.007593\n",
       "wind-powered    0.001970\n",
       "Name: extraction_type_class, dtype: float64"
      ]
     },
     "execution_count": 27,
     "metadata": {},
     "output_type": "execute_result"
    }
   ],
   "source": [
    "ds_low_var['extraction_type_class'].value_counts(normalize=True)"
   ]
  },
  {
   "cell_type": "code",
   "execution_count": 28,
   "metadata": {},
   "outputs": [
    {
     "data": {
      "text/plain": [
       "gravity        26779\n",
       "handpump       16456\n",
       "other           6998\n",
       "submersible     6179\n",
       "motorpump       2987\n",
       "Name: extraction_type_class, dtype: int64"
      ]
     },
     "execution_count": 28,
     "metadata": {},
     "output_type": "execute_result"
    }
   ],
   "source": [
    "ds_low_var.loc[\n",
    "    (ds_low_var['extraction_type_class'] == 'rope pump') | \n",
    "    (ds_low_var['extraction_type_class'] == 'wind-powered'), 'extraction_type_class'] = 'other'\n",
    "ds_low_var['extraction_type_class'].value_counts()"
   ]
  },
  {
   "cell_type": "markdown",
   "metadata": {},
   "source": [
    "<b>funder</b> contains 1897 unique values, dropping."
   ]
  },
  {
   "cell_type": "code",
   "execution_count": 29,
   "metadata": {},
   "outputs": [],
   "source": [
    "ds_low_var.drop(columns=['funder'], axis=1, inplace=True)\n",
    "ds_high_var.drop(columns=['funder'], axis=1, inplace=True)"
   ]
  },
  {
   "cell_type": "markdown",
   "metadata": {},
   "source": [
    "<b>gps_height</b>, the altitude of the well, contains 34% zero/missing observations."
   ]
  },
  {
   "cell_type": "markdown",
   "metadata": {},
   "source": [
    "<b>installer</b> contains 2146 unique values."
   ]
  },
  {
   "cell_type": "code",
   "execution_count": 30,
   "metadata": {},
   "outputs": [
    {
     "name": "stdout",
     "output_type": "stream",
     "text": [
      "Percent of observations covered with top 10 3-character grouping: 54.85%\n"
     ]
    }
   ],
   "source": [
    "# try generalizing data by grouping on 1st 3 characters\n",
    "test = pd.DataFrame()\n",
    "test['new_col'] = ds_clean['installer'].astype(str).str[0:3]\n",
    "print('Percent of observations covered with top 10 3-character grouping: {:.2%}'.format(test['new_col'].value_counts().head(10).sum() / len(ds_clean)))\n"
   ]
  },
  {
   "cell_type": "markdown",
   "metadata": {},
   "source": [
    "Half of the observations are covered by generalizing the installer, leaving over 1,000 remaining values. This feature will be dropped."
   ]
  },
  {
   "cell_type": "code",
   "execution_count": 31,
   "metadata": {},
   "outputs": [],
   "source": [
    "ds_low_var.drop(columns=['installer'], axis=1, inplace=True)\n",
    "ds_high_var.drop(columns=['installer'], axis=1, inplace=True)"
   ]
  },
  {
   "cell_type": "markdown",
   "metadata": {},
   "source": [
    "<b>management</b> has 12 observations, and is a sub-group of <b>management_group</b>, with 5 observations."
   ]
  },
  {
   "cell_type": "code",
   "execution_count": 32,
   "metadata": {},
   "outputs": [
    {
     "data": {
      "text/plain": [
       "management_group  management      \n",
       "commercial        company               685\n",
       "                  private operator     1971\n",
       "                  trust                  78\n",
       "                  water authority       904\n",
       "other             other                 844\n",
       "                  other - school         99\n",
       "parastatal        parastatal           1768\n",
       "unknown           unknown               561\n",
       "user-group        vwc                 40507\n",
       "                  water board          2933\n",
       "                  wua                  2535\n",
       "                  wug                  6515\n",
       "Name: id, dtype: int64"
      ]
     },
     "execution_count": 32,
     "metadata": {},
     "output_type": "execute_result"
    }
   ],
   "source": [
    "ds_clean.groupby(['management_group', 'management'])['id'].count()"
   ]
  },
  {
   "cell_type": "markdown",
   "metadata": {},
   "source": [
    "The vast majority of the data has the same values in the management_group and management features, 'user-group' and 'vwc', so no granularity is gained from the management feature for most of the data."
   ]
  },
  {
   "cell_type": "code",
   "execution_count": 33,
   "metadata": {},
   "outputs": [
    {
     "data": {
      "text/plain": [
       "status_group\n",
       "functional                 28252\n",
       "functional needs repair     3906\n",
       "non functional             20332\n",
       "Name: id, dtype: int64"
      ]
     },
     "execution_count": 33,
     "metadata": {},
     "output_type": "execute_result"
    }
   ],
   "source": [
    "ds_clean[ds_clean['management_group']=='user-group'].groupby(['status_group'])['id'].count()\n"
   ]
  },
  {
   "cell_type": "markdown",
   "metadata": {},
   "source": [
    "In addition, the values for the target variable are split fairly evenly for the most prevalent group. This might not be enough variance to add value predictions.  We'll keep this in mind during the model tuning phase.  For now, we can drop the \"management\" feature."
   ]
  },
  {
   "cell_type": "code",
   "execution_count": 34,
   "metadata": {},
   "outputs": [],
   "source": [
    "ds_low_var.drop(columns=['management'], axis=1, inplace=True)\n",
    "ds_high_var.drop(columns=['management'], axis=1, inplace=True)"
   ]
  },
  {
   "cell_type": "markdown",
   "metadata": {},
   "source": [
    "We can also reduce the cardinality of the \"management_group\" feature by combining 'unknown' with 'other'"
   ]
  },
  {
   "cell_type": "code",
   "execution_count": 35,
   "metadata": {},
   "outputs": [
    {
     "data": {
      "text/plain": [
       "user-group    52489\n",
       "commercial     3638\n",
       "parastatal     1768\n",
       "other          1504\n",
       "Name: management_group, dtype: int64"
      ]
     },
     "execution_count": 35,
     "metadata": {},
     "output_type": "execute_result"
    }
   ],
   "source": [
    "ds_low_var.loc[\n",
    "    (ds_low_var['management_group'] == 'unknown'), 'management_group'] = 'other'\n",
    "ds_low_var['management_group'].value_counts()"
   ]
  },
  {
   "cell_type": "markdown",
   "metadata": {},
   "source": [
    "<b>payment_type</b> has 7 values, but 70% of observations are covered in 3 values. "
   ]
  },
  {
   "cell_type": "code",
   "execution_count": 36,
   "metadata": {},
   "outputs": [
    {
     "data": {
      "text/plain": [
       "never pay     25347\n",
       "other         16767\n",
       "per bucket     8985\n",
       "monthly        8300\n",
       "Name: payment_type, dtype: int64"
      ]
     },
     "execution_count": 36,
     "metadata": {},
     "output_type": "execute_result"
    }
   ],
   "source": [
    "# To reduce cardinality, update observations that do not have a payment type in the top 3 values \n",
    "# to the value of 'other'\n",
    "\n",
    "ds_low_var.loc[\n",
    "    (ds_low_var['payment_type'] != 'never pay') & \n",
    "    (ds_low_var['payment_type'] != 'per bucket') & \n",
    "    (ds_low_var['payment_type'] != 'monthly'), 'payment_type'] = 'other'\n",
    "ds_low_var['payment_type'].value_counts()"
   ]
  },
  {
   "cell_type": "markdown",
   "metadata": {},
   "source": [
    "<b>population</b> has 36% missing values"
   ]
  },
  {
   "cell_type": "code",
   "execution_count": 37,
   "metadata": {},
   "outputs": [
    {
     "data": {
      "text/plain": [
       "count    59400.000000\n",
       "mean       179.909983\n",
       "std        471.482176\n",
       "min          0.000000\n",
       "25%          0.000000\n",
       "50%         25.000000\n",
       "75%        215.000000\n",
       "max      30500.000000\n",
       "Name: population, dtype: float64"
      ]
     },
     "execution_count": 37,
     "metadata": {},
     "output_type": "execute_result"
    }
   ],
   "source": [
    "# The population feature also has a high standard deviation.  \n",
    "ds_clean['population'].describe()"
   ]
  },
  {
   "cell_type": "code",
   "execution_count": 38,
   "metadata": {},
   "outputs": [],
   "source": [
    "# Population can be interpreted as a characteristic of the location of the pump, \n",
    "# which is already represented in other features with more complete representation\n",
    "# in the data. Dropping population.\n",
    "\n",
    "ds_low_var.drop(columns=['population'], axis=1, inplace=True)\n",
    "ds_high_var.drop(columns=['population'], axis=1, inplace=True)"
   ]
  },
  {
   "cell_type": "markdown",
   "metadata": {},
   "source": [
    "<b>quality</b> has 21 different values. 65% of data is represented in top 10 regions. Revisit this when deciding which feature(s) to identify location."
   ]
  },
  {
   "cell_type": "markdown",
   "metadata": {},
   "source": [
    "<b>region</b> has 21 different values. 65% of data is represented in top 10 regions. Revisit this when deciding which feature(s) to identify location."
   ]
  },
  {
   "cell_type": "markdown",
   "metadata": {},
   "source": [
    "<b>region_code</b> has 27 different values. 65% of data is represented in top 10 region codes. Revisit this when deciding which feature(s) to identify location."
   ]
  },
  {
   "cell_type": "markdown",
   "metadata": {},
   "source": [
    "<b>scheme_management</b> has 13 different values. 62% of data is represented in one value, with the rest of the data sparsely distributed over other values. Feature is missing from 6% of observations. Dropping this feature."
   ]
  },
  {
   "cell_type": "code",
   "execution_count": 39,
   "metadata": {},
   "outputs": [],
   "source": [
    "ds_low_var.drop(columns=['scheme_management'], axis=1, inplace=True)\n",
    "ds_high_var.drop(columns=['scheme_management'], axis=1, inplace=True)"
   ]
  },
  {
   "cell_type": "markdown",
   "metadata": {},
   "source": [
    "<b>source</b> has 10 different values. 95% of data is represented in top 5 sources. "
   ]
  },
  {
   "cell_type": "code",
   "execution_count": 40,
   "metadata": {},
   "outputs": [
    {
     "data": {
      "text/plain": [
       "0.9566835016835017"
      ]
     },
     "execution_count": 40,
     "metadata": {},
     "output_type": "execute_result"
    }
   ],
   "source": [
    "ds_clean['source'].value_counts()[:5].sum() / len(ds_clean)"
   ]
  },
  {
   "cell_type": "code",
   "execution_count": 41,
   "metadata": {},
   "outputs": [
    {
     "data": {
      "text/plain": [
       "spring          17021\n",
       "shallow well    16824\n",
       "machine dbh     11075\n",
       "river            9612\n",
       "other            4867\n",
       "Name: source, dtype: int64"
      ]
     },
     "execution_count": 41,
     "metadata": {},
     "output_type": "execute_result"
    }
   ],
   "source": [
    "# To reduce cardinality, update observations that do not have a sourse in the top 5 values \n",
    "# to the value of 'other'\n",
    "\n",
    "ds_low_var.loc[\n",
    "    (ds_low_var['source'] != 'spring') & \n",
    "    (ds_low_var['source'] != 'shallow well') & \n",
    "    (ds_low_var['source'] != 'machine dbh') &\n",
    "    (ds_low_var['source'] != 'river'), 'source'] = 'other'\n",
    "ds_low_var['source'].value_counts()"
   ]
  },
  {
   "cell_type": "markdown",
   "metadata": {},
   "source": [
    "<b>source_class</b> has 3 different values. 77% of values are 'groundwater'. This feature is highly correlated with source, which has more balanced cardinality. Dropping source_class. "
   ]
  },
  {
   "cell_type": "code",
   "execution_count": 42,
   "metadata": {},
   "outputs": [],
   "source": [
    "ds_low_var.drop(columns=['source_class'], axis=1, inplace=True)\n",
    "ds_high_var.drop(columns=['source_class'], axis=1, inplace=True)"
   ]
  },
  {
   "cell_type": "markdown",
   "metadata": {},
   "source": [
    "<b>source_type</b> has 7 different values, where the majority of data is equal to the values in the <b>source</b> feature. Dropping source_type. "
   ]
  },
  {
   "cell_type": "code",
   "execution_count": 43,
   "metadata": {},
   "outputs": [],
   "source": [
    "ds_low_var.drop(columns=['source_type'], axis=1, inplace=True)\n",
    "#since most of the data is equal to the source feature, that will be used in both datasets\n",
    "ds_high_var.drop(columns=['source_type'], axis=1, inplace=True)"
   ]
  },
  {
   "cell_type": "markdown",
   "metadata": {},
   "source": [
    "<b>subvillage</b> has 19288 different values. These are proper names, and are part of the hierarchy of features that identify the location for the pump. A feature with lower cardinality will be better for modeling. Dropping subvillage."
   ]
  },
  {
   "cell_type": "code",
   "execution_count": 44,
   "metadata": {},
   "outputs": [],
   "source": [
    "ds_low_var.drop(columns=['subvillage'], axis=1, inplace=True)\n",
    "#this extreme level of cardinality will most likely not help\n",
    "ds_high_var.drop(columns=['subvillage'], axis=1, inplace=True)"
   ]
  },
  {
   "cell_type": "markdown",
   "metadata": {},
   "source": [
    "<b>ward</b> has 2092 different values. These are proper names, and are part of the hierarchy of features that identify the location for the pump. A feature with lower cardinality will be better for modeling. Dropping ward."
   ]
  },
  {
   "cell_type": "code",
   "execution_count": 45,
   "metadata": {},
   "outputs": [],
   "source": [
    "ds_low_var.drop(columns=['ward'], axis=1, inplace=True)\n",
    "#this extreme level of cardinality will most likely not help\n",
    "ds_high_var.drop(columns=['ward'], axis=1, inplace=True)"
   ]
  },
  {
   "cell_type": "markdown",
   "metadata": {},
   "source": [
    "<b>water_quality</b> is 'soft' 85% of the time. Dropping water_quality."
   ]
  },
  {
   "cell_type": "code",
   "execution_count": 46,
   "metadata": {},
   "outputs": [],
   "source": [
    "ds_low_var.drop(columns=['water_quality'], axis=1, inplace=True)\n",
    "ds_high_var.drop(columns=['water_quality'], axis=1, inplace=True)"
   ]
  },
  {
   "cell_type": "markdown",
   "metadata": {},
   "source": [
    "<b>waterpoint_type</b> has 7 values, but 98% of data is in top 4 values (including 'other'). To reduce cardinality, make all but the top 4 values = 'other'. "
   ]
  },
  {
   "cell_type": "code",
   "execution_count": 47,
   "metadata": {},
   "outputs": [
    {
     "data": {
      "text/plain": [
       "0.9847306397306397"
      ]
     },
     "execution_count": 47,
     "metadata": {},
     "output_type": "execute_result"
    }
   ],
   "source": [
    "ds_clean['waterpoint_type'].value_counts().head(4).sum() / len(ds_clean)"
   ]
  },
  {
   "cell_type": "code",
   "execution_count": 48,
   "metadata": {},
   "outputs": [
    {
     "data": {
      "text/plain": [
       "communal standpipe             28521\n",
       "hand pump                      17488\n",
       "other                           7287\n",
       "communal standpipe multiple     6103\n",
       "Name: waterpoint_type, dtype: int64"
      ]
     },
     "execution_count": 48,
     "metadata": {},
     "output_type": "execute_result"
    }
   ],
   "source": [
    "ds_low_var.loc[\n",
    "    (ds_low_var['waterpoint_type'] != 'communal standpipe') & \n",
    "    (ds_low_var['waterpoint_type'] != 'hand pump') & \n",
    "    (ds_low_var['waterpoint_type'] != 'communal standpipe multiple') &\n",
    "    (ds_low_var['waterpoint_type'] != 'other'), 'waterpoint_type'] = 'other'\n",
    "ds_low_var['waterpoint_type'].value_counts()"
   ]
  },
  {
   "cell_type": "markdown",
   "metadata": {},
   "source": [
    "<b>waterpoint_type_group</b> has 6 values representing the same data in waterpoint_type, where 'communal standpipe' is combined with 'communal standpipe multiple'. Dropping waterpoint_type_group in favor of waterpoint_type, but if dimensionality becomes an issue, use waterpoint_type_group instead of waterpoint_type."
   ]
  },
  {
   "cell_type": "code",
   "execution_count": 49,
   "metadata": {},
   "outputs": [],
   "source": [
    "ds_low_var.drop(columns=['waterpoint_type_group'], axis=1, inplace=True)\n",
    "ds_high_var.drop(columns=['waterpoint_type_group'], axis=1, inplace=True)"
   ]
  },
  {
   "cell_type": "markdown",
   "metadata": {},
   "source": [
    "## <b>Feature(s) to identify location</b>"
   ]
  },
  {
   "cell_type": "code",
   "execution_count": 50,
   "metadata": {},
   "outputs": [
    {
     "data": {
      "text/plain": [
       "<bound method Series.sort_values of region  region_code  district_code  lga         \n",
       "Arusha  2            1              Monduli          189\n",
       "                     2              Arusha Rural    1206\n",
       "                     3              Arusha Rural      46\n",
       "                                    Arusha Urban      63\n",
       "                     5              Ngorongoro       201\n",
       "                                                    ... \n",
       "Tanga   4            6              Handeni          254\n",
       "                                    Pangani           12\n",
       "                     7              Kilindi          127\n",
       "                     8              Mkinga           288\n",
       "        5            1              Kilindi           34\n",
       "Name: id, Length: 176, dtype: int64>"
      ]
     },
     "execution_count": 50,
     "metadata": {},
     "output_type": "execute_result"
    }
   ],
   "source": [
    "df_geo = ds_clean.groupby(['region','region_code','district_code', 'lga'])['id'].count()\n",
    "df_geo.sort_values\n"
   ]
  },
  {
   "cell_type": "markdown",
   "metadata": {},
   "source": [
    "Since there is a high degree of cardinality for 'region' which is at the top of the regional hierarchy, the lower-level features will only add more variability, and predictions might benefit from dropping 'region_code','district_code' and 'lga'.  "
   ]
  },
  {
   "cell_type": "code",
   "execution_count": 51,
   "metadata": {},
   "outputs": [],
   "source": [
    "# for the low-var dataset, drop all but the low-variance pump location fields\n",
    "ds_low_var.drop(columns=['region_code', 'district_code', 'lga', 'latitude', 'longitude'], axis=1, inplace=True)\n",
    "\n",
    "# for the high-var dataset, use the higher-variance pump location fields (avoiding extreme cardinality)\n",
    "# region_code, latitude and longitude\n",
    "ds_high_var.drop(columns=['region', 'district_code', 'lga'], axis=1, inplace=True)"
   ]
  },
  {
   "cell_type": "markdown",
   "metadata": {},
   "source": [
    "Now that the Pandas Profiling results have been reviewed, we can come back to the missing / zero-valued data, of which construction year is left."
   ]
  },
  {
   "cell_type": "code",
   "execution_count": 52,
   "metadata": {},
   "outputs": [
    {
     "data": {
      "text/html": [
       "<div>\n",
       "<style scoped>\n",
       "    .dataframe tbody tr th:only-of-type {\n",
       "        vertical-align: middle;\n",
       "    }\n",
       "\n",
       "    .dataframe tbody tr th {\n",
       "        vertical-align: top;\n",
       "    }\n",
       "\n",
       "    .dataframe thead th {\n",
       "        text-align: right;\n",
       "    }\n",
       "</style>\n",
       "<table border=\"1\" class=\"dataframe\">\n",
       "  <thead>\n",
       "    <tr style=\"text-align: right;\">\n",
       "      <th>construction_year</th>\n",
       "      <th>0</th>\n",
       "    </tr>\n",
       "    <tr>\n",
       "      <th>status_group</th>\n",
       "      <th></th>\n",
       "    </tr>\n",
       "  </thead>\n",
       "  <tbody>\n",
       "    <tr>\n",
       "      <td>functional</td>\n",
       "      <td>0.509682</td>\n",
       "    </tr>\n",
       "    <tr>\n",
       "      <td>functional needs repair</td>\n",
       "      <td>0.086388</td>\n",
       "    </tr>\n",
       "    <tr>\n",
       "      <td>non functional</td>\n",
       "      <td>0.403931</td>\n",
       "    </tr>\n",
       "  </tbody>\n",
       "</table>\n",
       "</div>"
      ],
      "text/plain": [
       "construction_year               0\n",
       "status_group                     \n",
       "functional               0.509682\n",
       "functional needs repair  0.086388\n",
       "non functional           0.403931"
      ]
     },
     "execution_count": 52,
     "metadata": {},
     "output_type": "execute_result"
    }
   ],
   "source": [
    "# determine if construction year is missing according to any pattern\n",
    "df_age_status = ds_clean[ds_clean['construction_year']==0][['construction_year', 'status_group']]\n",
    "\n",
    "df_year_zero = pd.crosstab(index = df_age_status['status_group'], \n",
    "            columns = df_age_status['construction_year'], normalize=True) \n",
    "df_year_zero"
   ]
  },
  {
   "cell_type": "code",
   "execution_count": 53,
   "metadata": {},
   "outputs": [
    {
     "data": {
      "text/plain": [
       "functional                 0.543081\n",
       "non functional             0.384242\n",
       "functional needs repair    0.072677\n",
       "Name: status_group, dtype: float64"
      ]
     },
     "execution_count": 53,
     "metadata": {},
     "output_type": "execute_result"
    }
   ],
   "source": [
    "# compare this to the distribution of status regardless of year\n",
    "ds_clean['status_group'].value_counts(normalize=True)"
   ]
  },
  {
   "cell_type": "markdown",
   "metadata": {},
   "source": [
    "The distribution of missing years is close to the distribution of status groups, so there is no pattern in the missing data in relation to the target. Leaving the values as zero for now, and will revisit when optimizing models."
   ]
  },
  {
   "cell_type": "markdown",
   "metadata": {},
   "source": [
    "The average of the altitude is close for all three status groups. This makes the feature a candiate for imputing missing values with the mean.  We can optimize the mean by calculating it per geographic area."
   ]
  },
  {
   "cell_type": "code",
   "execution_count": 54,
   "metadata": {},
   "outputs": [
    {
     "data": {
      "text/plain": [
       "['basin',\n",
       " 'construction_year',\n",
       " 'extraction_type_class',\n",
       " 'gps_height',\n",
       " 'id',\n",
       " 'management_group',\n",
       " 'payment_type',\n",
       " 'permit',\n",
       " 'quantity',\n",
       " 'region',\n",
       " 'source',\n",
       " 'status_group',\n",
       " 'waterpoint_type']"
      ]
     },
     "execution_count": 54,
     "metadata": {},
     "output_type": "execute_result"
    }
   ],
   "source": [
    "sorted(ds_low_var)"
   ]
  },
  {
   "cell_type": "code",
   "execution_count": 55,
   "metadata": {},
   "outputs": [
    {
     "data": {
      "text/plain": [
       "['basin',\n",
       " 'construction_year',\n",
       " 'extraction_type_group',\n",
       " 'gps_height',\n",
       " 'id',\n",
       " 'latitude',\n",
       " 'longitude',\n",
       " 'management_group',\n",
       " 'payment_type',\n",
       " 'permit',\n",
       " 'quantity',\n",
       " 'region_code',\n",
       " 'source',\n",
       " 'status_group',\n",
       " 'waterpoint_type']"
      ]
     },
     "execution_count": 55,
     "metadata": {},
     "output_type": "execute_result"
    }
   ],
   "source": [
    "sorted(ds_high_var)"
   ]
  },
  {
   "cell_type": "markdown",
   "metadata": {},
   "source": [
    "## Write cleaned datasets to file"
   ]
  },
  {
   "cell_type": "code",
   "execution_count": 56,
   "metadata": {},
   "outputs": [],
   "source": [
    "# finally drop the ID field, which was helpful in the analysis above\n",
    "ds_low_var.drop(columns=['id'], axis=1, inplace=True)\n",
    "ds_high_var.drop(columns=['id'], axis=1, inplace=True)"
   ]
  },
  {
   "cell_type": "code",
   "execution_count": 57,
   "metadata": {},
   "outputs": [],
   "source": [
    "ds_low_var.to_csv('low_var.csv')\n",
    "ds_high_var.to_csv('high_var.csv')"
   ]
  },
  {
   "cell_type": "code",
   "execution_count": 58,
   "metadata": {},
   "outputs": [
    {
     "name": "stdout",
     "output_type": "stream",
     "text": [
      "In low variance dataset, 29 features were dropped, resulting in dataset with 12 features and 59399 observations. \n"
     ]
    }
   ],
   "source": [
    "print('In low variance dataset, {} features were dropped, resulting in dataset with {} features and {} observations. '\n",
    "      .format(ds_original.shape[1] - ds_low_var.shape[1], ds_low_var.shape[1], ds_low_var.shape[0]))"
   ]
  },
  {
   "cell_type": "code",
   "execution_count": 59,
   "metadata": {},
   "outputs": [
    {
     "name": "stdout",
     "output_type": "stream",
     "text": [
      "In high variance dataset, 27 features were dropped, resulting in dataset with 14 features and 59399 observations. \n"
     ]
    }
   ],
   "source": [
    "print('In high variance dataset, {} features were dropped, resulting in dataset with {} features and {} observations. '\n",
    "      .format(ds_original.shape[1] - ds_high_var.shape[1], ds_high_var.shape[1], ds_high_var.shape[0]))"
   ]
  },
  {
   "cell_type": "markdown",
   "metadata": {},
   "source": [
    "### These datasets will be used in the subsequent project phases"
   ]
  }
 ],
 "metadata": {
  "kernelspec": {
   "display_name": "Python 3",
   "language": "python",
   "name": "python3"
  },
  "language_info": {
   "codemirror_mode": {
    "name": "ipython",
    "version": 3
   },
   "file_extension": ".py",
   "mimetype": "text/x-python",
   "name": "python",
   "nbconvert_exporter": "python",
   "pygments_lexer": "ipython3",
   "version": "3.7.1"
  }
 },
 "nbformat": 4,
 "nbformat_minor": 2
}
